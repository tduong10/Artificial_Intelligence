{
  "nbformat": 4,
  "nbformat_minor": 0,
  "metadata": {
    "colab": {
      "name": "Skin Cancer with Deep Learning",
      "provenance": [],
      "collapsed_sections": [],
      "toc_visible": true
    },
    "kernelspec": {
      "name": "python3",
      "display_name": "Python 3"
    },
    "accelerator": "GPU"
  },
  "cells": [
    {
      "cell_type": "markdown",
      "metadata": {
        "id": "k9zcDsN_CWDZ",
        "colab_type": "text"
      },
      "source": [
        "# **Detecting Skin Cancer with Deep Learning**"
      ]
    },
    {
      "cell_type": "markdown",
      "metadata": {
        "id": "oYMXxnusUWcE",
        "colab_type": "text"
      },
      "source": [
        "Mount google drive"
      ]
    },
    {
      "cell_type": "code",
      "metadata": {
        "id": "FndbhnFlSYLJ",
        "colab_type": "code",
        "colab": {
          "base_uri": "https://localhost:8080/",
          "height": 122
        },
        "outputId": "a5c8461b-4f4c-4eab-e2af-04db4dee091d"
      },
      "source": [
        "from google.colab import drive\n",
        "drive.mount('/content/drive')"
      ],
      "execution_count": null,
      "outputs": [
        {
          "output_type": "stream",
          "text": [
            "Go to this URL in a browser: https://accounts.google.com/o/oauth2/auth?client_id=947318989803-6bn6qk8qdgf4n4g3pfee6491hc0brc4i.apps.googleusercontent.com&redirect_uri=urn%3aietf%3awg%3aoauth%3a2.0%3aoob&response_type=code&scope=email%20https%3a%2f%2fwww.googleapis.com%2fauth%2fdocs.test%20https%3a%2f%2fwww.googleapis.com%2fauth%2fdrive%20https%3a%2f%2fwww.googleapis.com%2fauth%2fdrive.photos.readonly%20https%3a%2f%2fwww.googleapis.com%2fauth%2fpeopleapi.readonly\n",
            "\n",
            "Enter your authorization code:\n",
            "··········\n",
            "Mounted at /content/drive\n"
          ],
          "name": "stdout"
        }
      ]
    },
    {
      "cell_type": "markdown",
      "metadata": {
        "id": "ZtuqphZlS4ci",
        "colab_type": "text"
      },
      "source": [
        "Unzipping HAM10000 dataset from google drive"
      ]
    },
    {
      "cell_type": "code",
      "metadata": {
        "id": "66CHKy6fS9q1",
        "colab_type": "code",
        "colab": {}
      },
      "source": [
        "!unzip '/content/drive/My Drive/AI Dataset/HAM10000.zip'  -d '/content/'"
      ],
      "execution_count": null,
      "outputs": []
    },
    {
      "cell_type": "markdown",
      "metadata": {
        "id": "8uyXqneI32XJ",
        "colab_type": "text"
      },
      "source": [
        "Importing libraries"
      ]
    },
    {
      "cell_type": "code",
      "metadata": {
        "id": "gFXOnVRF2XJw",
        "colab_type": "code",
        "colab": {
          "base_uri": "https://localhost:8080/",
          "height": 35
        },
        "outputId": "c44eb057-0af2-45d4-d8da-195f6b525dd2"
      },
      "source": [
        "import tensorflow as tf\n",
        "import pandas as pd\n",
        "from tensorflow.keras.models import Sequential\n",
        "from tensorflow.keras.layers import Dense, Convolution2D, MaxPooling2D, Flatten, Dropout, Activation\n",
        "from tensorflow.keras.callbacks import EarlyStopping, ReduceLROnPlateau, ModelCheckpoint\n",
        "\n",
        "# for GPU on G. Colab\n",
        "%tensorflow_version 2.x\n",
        "device_name = tf.test.gpu_device_name()\n",
        "if device_name != '/device:GPU:0':\n",
        "  raise SystemError('GPU device not found')\n",
        "print('Found GPU at: {}'.format(device_name))"
      ],
      "execution_count": null,
      "outputs": [
        {
          "output_type": "stream",
          "text": [
            "Found GPU at: /device:GPU:0\n"
          ],
          "name": "stdout"
        }
      ]
    },
    {
      "cell_type": "markdown",
      "metadata": {
        "id": "SCZEVSW14vlg",
        "colab_type": "text"
      },
      "source": [
        "Importing the dataset"
      ]
    },
    {
      "cell_type": "code",
      "metadata": {
        "id": "h8K2dyS93xAX",
        "colab_type": "code",
        "colab": {}
      },
      "source": [
        "skin_dataset = pd.read_csv('HAM10000_metadata.csv')\n"
      ],
      "execution_count": null,
      "outputs": []
    },
    {
      "cell_type": "code",
      "metadata": {
        "id": "ykvgh6bHIFQI",
        "colab_type": "code",
        "colab": {
          "base_uri": "https://localhost:8080/",
          "height": 206
        },
        "outputId": "58cc9f31-d5a2-450f-ba22-f30c7cf3f2f7"
      },
      "source": [
        "skin_dataset.head() # returns the first n rows for the object based on position\n",
        "# dx: diagnosis for patient\n",
        "# dx_type: how the diagnosis was made\n"
      ],
      "execution_count": null,
      "outputs": [
        {
          "output_type": "execute_result",
          "data": {
            "text/html": [
              "<div>\n",
              "<style scoped>\n",
              "    .dataframe tbody tr th:only-of-type {\n",
              "        vertical-align: middle;\n",
              "    }\n",
              "\n",
              "    .dataframe tbody tr th {\n",
              "        vertical-align: top;\n",
              "    }\n",
              "\n",
              "    .dataframe thead th {\n",
              "        text-align: right;\n",
              "    }\n",
              "</style>\n",
              "<table border=\"1\" class=\"dataframe\">\n",
              "  <thead>\n",
              "    <tr style=\"text-align: right;\">\n",
              "      <th></th>\n",
              "      <th>lesion_id</th>\n",
              "      <th>image_id</th>\n",
              "      <th>dx</th>\n",
              "      <th>dx_type</th>\n",
              "      <th>age</th>\n",
              "      <th>sex</th>\n",
              "      <th>localization</th>\n",
              "    </tr>\n",
              "  </thead>\n",
              "  <tbody>\n",
              "    <tr>\n",
              "      <th>0</th>\n",
              "      <td>HAM_0000118</td>\n",
              "      <td>ISIC_0027419</td>\n",
              "      <td>bkl</td>\n",
              "      <td>histo</td>\n",
              "      <td>80.0</td>\n",
              "      <td>male</td>\n",
              "      <td>scalp</td>\n",
              "    </tr>\n",
              "    <tr>\n",
              "      <th>1</th>\n",
              "      <td>HAM_0000118</td>\n",
              "      <td>ISIC_0025030</td>\n",
              "      <td>bkl</td>\n",
              "      <td>histo</td>\n",
              "      <td>80.0</td>\n",
              "      <td>male</td>\n",
              "      <td>scalp</td>\n",
              "    </tr>\n",
              "    <tr>\n",
              "      <th>2</th>\n",
              "      <td>HAM_0002730</td>\n",
              "      <td>ISIC_0026769</td>\n",
              "      <td>bkl</td>\n",
              "      <td>histo</td>\n",
              "      <td>80.0</td>\n",
              "      <td>male</td>\n",
              "      <td>scalp</td>\n",
              "    </tr>\n",
              "    <tr>\n",
              "      <th>3</th>\n",
              "      <td>HAM_0002730</td>\n",
              "      <td>ISIC_0025661</td>\n",
              "      <td>bkl</td>\n",
              "      <td>histo</td>\n",
              "      <td>80.0</td>\n",
              "      <td>male</td>\n",
              "      <td>scalp</td>\n",
              "    </tr>\n",
              "    <tr>\n",
              "      <th>4</th>\n",
              "      <td>HAM_0001466</td>\n",
              "      <td>ISIC_0031633</td>\n",
              "      <td>bkl</td>\n",
              "      <td>histo</td>\n",
              "      <td>75.0</td>\n",
              "      <td>male</td>\n",
              "      <td>ear</td>\n",
              "    </tr>\n",
              "  </tbody>\n",
              "</table>\n",
              "</div>"
            ],
            "text/plain": [
              "     lesion_id      image_id   dx dx_type   age   sex localization\n",
              "0  HAM_0000118  ISIC_0027419  bkl   histo  80.0  male        scalp\n",
              "1  HAM_0000118  ISIC_0025030  bkl   histo  80.0  male        scalp\n",
              "2  HAM_0002730  ISIC_0026769  bkl   histo  80.0  male        scalp\n",
              "3  HAM_0002730  ISIC_0025661  bkl   histo  80.0  male        scalp\n",
              "4  HAM_0001466  ISIC_0031633  bkl   histo  75.0  male          ear"
            ]
          },
          "metadata": {
            "tags": []
          },
          "execution_count": 20
        }
      ]
    },
    {
      "cell_type": "code",
      "metadata": {
        "id": "NQGzWTFSR_iB",
        "colab_type": "code",
        "colab": {
          "base_uri": "https://localhost:8080/",
          "height": 164
        },
        "outputId": "0865f189-ce8a-4990-9a52-441be9614193"
      },
      "source": [
        "skin_dataset.dtypes # return data type of each column"
      ],
      "execution_count": null,
      "outputs": [
        {
          "output_type": "execute_result",
          "data": {
            "text/plain": [
              "lesion_id        object\n",
              "image_id         object\n",
              "dx               object\n",
              "dx_type          object\n",
              "age             float64\n",
              "sex              object\n",
              "localization     object\n",
              "dtype: object"
            ]
          },
          "metadata": {
            "tags": []
          },
          "execution_count": 22
        }
      ]
    },
    {
      "cell_type": "code",
      "metadata": {
        "id": "2r16zEJ6SCL6",
        "colab_type": "code",
        "colab": {
          "base_uri": "https://localhost:8080/",
          "height": 206
        },
        "outputId": "1343c78e-416b-4120-f9e0-021009322066"
      },
      "source": [
        "skin_dataset['image_name'] = skin_dataset['image_id'] + '.jpg'\n",
        "subset1 = skin_dataset[['lesion_id', 'dx', 'image_name']]\n",
        "subset1.head()"
      ],
      "execution_count": null,
      "outputs": [
        {
          "output_type": "execute_result",
          "data": {
            "text/html": [
              "<div>\n",
              "<style scoped>\n",
              "    .dataframe tbody tr th:only-of-type {\n",
              "        vertical-align: middle;\n",
              "    }\n",
              "\n",
              "    .dataframe tbody tr th {\n",
              "        vertical-align: top;\n",
              "    }\n",
              "\n",
              "    .dataframe thead th {\n",
              "        text-align: right;\n",
              "    }\n",
              "</style>\n",
              "<table border=\"1\" class=\"dataframe\">\n",
              "  <thead>\n",
              "    <tr style=\"text-align: right;\">\n",
              "      <th></th>\n",
              "      <th>lesion_id</th>\n",
              "      <th>dx</th>\n",
              "      <th>image_name</th>\n",
              "    </tr>\n",
              "  </thead>\n",
              "  <tbody>\n",
              "    <tr>\n",
              "      <th>0</th>\n",
              "      <td>HAM_0000118</td>\n",
              "      <td>bkl</td>\n",
              "      <td>ISIC_0027419.jpg</td>\n",
              "    </tr>\n",
              "    <tr>\n",
              "      <th>1</th>\n",
              "      <td>HAM_0000118</td>\n",
              "      <td>bkl</td>\n",
              "      <td>ISIC_0025030.jpg</td>\n",
              "    </tr>\n",
              "    <tr>\n",
              "      <th>2</th>\n",
              "      <td>HAM_0002730</td>\n",
              "      <td>bkl</td>\n",
              "      <td>ISIC_0026769.jpg</td>\n",
              "    </tr>\n",
              "    <tr>\n",
              "      <th>3</th>\n",
              "      <td>HAM_0002730</td>\n",
              "      <td>bkl</td>\n",
              "      <td>ISIC_0025661.jpg</td>\n",
              "    </tr>\n",
              "    <tr>\n",
              "      <th>4</th>\n",
              "      <td>HAM_0001466</td>\n",
              "      <td>bkl</td>\n",
              "      <td>ISIC_0031633.jpg</td>\n",
              "    </tr>\n",
              "  </tbody>\n",
              "</table>\n",
              "</div>"
            ],
            "text/plain": [
              "     lesion_id   dx        image_name\n",
              "0  HAM_0000118  bkl  ISIC_0027419.jpg\n",
              "1  HAM_0000118  bkl  ISIC_0025030.jpg\n",
              "2  HAM_0002730  bkl  ISIC_0026769.jpg\n",
              "3  HAM_0002730  bkl  ISIC_0025661.jpg\n",
              "4  HAM_0001466  bkl  ISIC_0031633.jpg"
            ]
          },
          "metadata": {
            "tags": []
          },
          "execution_count": 23
        }
      ]
    },
    {
      "cell_type": "code",
      "metadata": {
        "id": "qiU_HzzjUpGA",
        "colab_type": "code",
        "colab": {
          "base_uri": "https://localhost:8080/",
          "height": 206
        },
        "outputId": "5fb54ea5-b8c7-4311-b23a-d47361f07dae"
      },
      "source": [
        "subset2 = subset1.pop('dx').to_frame()\n",
        "subset2.head()\n"
      ],
      "execution_count": null,
      "outputs": [
        {
          "output_type": "execute_result",
          "data": {
            "text/html": [
              "<div>\n",
              "<style scoped>\n",
              "    .dataframe tbody tr th:only-of-type {\n",
              "        vertical-align: middle;\n",
              "    }\n",
              "\n",
              "    .dataframe tbody tr th {\n",
              "        vertical-align: top;\n",
              "    }\n",
              "\n",
              "    .dataframe thead th {\n",
              "        text-align: right;\n",
              "    }\n",
              "</style>\n",
              "<table border=\"1\" class=\"dataframe\">\n",
              "  <thead>\n",
              "    <tr style=\"text-align: right;\">\n",
              "      <th></th>\n",
              "      <th>dx</th>\n",
              "    </tr>\n",
              "  </thead>\n",
              "  <tbody>\n",
              "    <tr>\n",
              "      <th>0</th>\n",
              "      <td>bkl</td>\n",
              "    </tr>\n",
              "    <tr>\n",
              "      <th>1</th>\n",
              "      <td>bkl</td>\n",
              "    </tr>\n",
              "    <tr>\n",
              "      <th>2</th>\n",
              "      <td>bkl</td>\n",
              "    </tr>\n",
              "    <tr>\n",
              "      <th>3</th>\n",
              "      <td>bkl</td>\n",
              "    </tr>\n",
              "    <tr>\n",
              "      <th>4</th>\n",
              "      <td>bkl</td>\n",
              "    </tr>\n",
              "  </tbody>\n",
              "</table>\n",
              "</div>"
            ],
            "text/plain": [
              "    dx\n",
              "0  bkl\n",
              "1  bkl\n",
              "2  bkl\n",
              "3  bkl\n",
              "4  bkl"
            ]
          },
          "metadata": {
            "tags": []
          },
          "execution_count": 24
        }
      ]
    },
    {
      "cell_type": "code",
      "metadata": {
        "id": "hqjZIuZFXwFv",
        "colab_type": "code",
        "colab": {
          "base_uri": "https://localhost:8080/",
          "height": 1000
        },
        "outputId": "0bb4fe44-81c4-4882-a1fe-3d334bdcc434"
      },
      "source": [
        "from pathlib import Path\n",
        "from sklearn.model_selection import train_test_split\n",
        "\n",
        "x_train, x_test, y_train, y_test = train_test_split(subset1, subset2, test_size=0.25, random_state=100, stratify=subset2) \n",
        "  # test size 25% and train 75%\n",
        "  # stratification which will lock the distribution of classes in train and test sets. help prevent imbalance test sets\n",
        "    # making sure to have a balance set of dx for test and train\n",
        "\n",
        "\n",
        "\"\"\"\n",
        "train_path = Path('/content/', 'train.csv')\n",
        "test_path = Path('/content/', 'test.csv')\n",
        "train.to_csv(train_path, sep='\\t', index=False)\n",
        "test.to_csv(test_path, sep='\\t', index=False)\n",
        "\"\"\"\n",
        "\n",
        "print(\"Train: \", x_train)\n",
        "print(\"Train: \", x_test)\n",
        "\n",
        "print(\"Test: \", y_train)\n",
        "print(\"Test: \", y_test)\n"
      ],
      "execution_count": null,
      "outputs": [
        {
          "output_type": "stream",
          "text": [
            "Train:          lesion_id        image_name\n",
            "1077  HAM_0005096  ISIC_0029741.jpg\n",
            "357   HAM_0003089  ISIC_0030706.jpg\n",
            "761   HAM_0001763  ISIC_0029029.jpg\n",
            "1234  HAM_0003182  ISIC_0029028.jpg\n",
            "1441  HAM_0005328  ISIC_0032441.jpg\n",
            "...           ...               ...\n",
            "7724  HAM_0001645  ISIC_0032878.jpg\n",
            "4351  HAM_0001885  ISIC_0027534.jpg\n",
            "9434  HAM_0001916  ISIC_0032721.jpg\n",
            "3011  HAM_0001180  ISIC_0029303.jpg\n",
            "9653  HAM_0001393  ISIC_0027418.jpg\n",
            "\n",
            "[7511 rows x 2 columns]\n",
            "Train:          lesion_id        image_name\n",
            "9957  HAM_0006587  ISIC_0025780.jpg\n",
            "241   HAM_0007341  ISIC_0032898.jpg\n",
            "8422  HAM_0005261  ISIC_0027390.jpg\n",
            "5183  HAM_0001451  ISIC_0029960.jpg\n",
            "7814  HAM_0007169  ISIC_0033433.jpg\n",
            "...           ...               ...\n",
            "8275  HAM_0000509  ISIC_0024837.jpg\n",
            "36    HAM_0000351  ISIC_0029559.jpg\n",
            "5543  HAM_0001980  ISIC_0032012.jpg\n",
            "3287  HAM_0004177  ISIC_0031907.jpg\n",
            "82    HAM_0001773  ISIC_0024832.jpg\n",
            "\n",
            "[2504 rows x 2 columns]\n",
            "Test:         dx\n",
            "1077  bkl\n",
            "357   bkl\n",
            "761   bkl\n",
            "1234  mel\n",
            "1441  mel\n",
            "...   ...\n",
            "7724   nv\n",
            "4351   nv\n",
            "9434   nv\n",
            "3011   nv\n",
            "9653   nv\n",
            "\n",
            "[7511 rows x 1 columns]\n",
            "Test:           dx\n",
            "9957  akiec\n",
            "241     bkl\n",
            "8422     nv\n",
            "5183     nv\n",
            "7814     nv\n",
            "...     ...\n",
            "8275     nv\n",
            "36      bkl\n",
            "5543     nv\n",
            "3287     nv\n",
            "82      bkl\n",
            "\n",
            "[2504 rows x 1 columns]\n"
          ],
          "name": "stdout"
        }
      ]
    },
    {
      "cell_type": "code",
      "metadata": {
        "id": "4cE9TlxAWzfI",
        "colab_type": "code",
        "colab": {
          "base_uri": "https://localhost:8080/",
          "height": 531
        },
        "outputId": "23b371a1-b332-424d-ad2f-ac512372552a"
      },
      "source": [
        "train_set = pd.concat([x_train, y_train], axis = 1)\n",
        "test_set = pd.concat([x_test, y_test], axis = 1)\n",
        "print(train_set)\n",
        "print(test_set)"
      ],
      "execution_count": null,
      "outputs": [
        {
          "output_type": "stream",
          "text": [
            "        lesion_id        image_name   dx\n",
            "1077  HAM_0005096  ISIC_0029741.jpg  bkl\n",
            "357   HAM_0003089  ISIC_0030706.jpg  bkl\n",
            "761   HAM_0001763  ISIC_0029029.jpg  bkl\n",
            "1234  HAM_0003182  ISIC_0029028.jpg  mel\n",
            "1441  HAM_0005328  ISIC_0032441.jpg  mel\n",
            "...           ...               ...  ...\n",
            "7724  HAM_0001645  ISIC_0032878.jpg   nv\n",
            "4351  HAM_0001885  ISIC_0027534.jpg   nv\n",
            "9434  HAM_0001916  ISIC_0032721.jpg   nv\n",
            "3011  HAM_0001180  ISIC_0029303.jpg   nv\n",
            "9653  HAM_0001393  ISIC_0027418.jpg   nv\n",
            "\n",
            "[7511 rows x 3 columns]\n",
            "        lesion_id        image_name     dx\n",
            "9957  HAM_0006587  ISIC_0025780.jpg  akiec\n",
            "241   HAM_0007341  ISIC_0032898.jpg    bkl\n",
            "8422  HAM_0005261  ISIC_0027390.jpg     nv\n",
            "5183  HAM_0001451  ISIC_0029960.jpg     nv\n",
            "7814  HAM_0007169  ISIC_0033433.jpg     nv\n",
            "...           ...               ...    ...\n",
            "8275  HAM_0000509  ISIC_0024837.jpg     nv\n",
            "36    HAM_0000351  ISIC_0029559.jpg    bkl\n",
            "5543  HAM_0001980  ISIC_0032012.jpg     nv\n",
            "3287  HAM_0004177  ISIC_0031907.jpg     nv\n",
            "82    HAM_0001773  ISIC_0024832.jpg    bkl\n",
            "\n",
            "[2504 rows x 3 columns]\n"
          ],
          "name": "stdout"
        }
      ]
    },
    {
      "cell_type": "code",
      "metadata": {
        "id": "8_A4glzhXpPg",
        "colab_type": "code",
        "colab": {
          "base_uri": "https://localhost:8080/",
          "height": 274
        },
        "outputId": "e9855987-511d-4861-91fc-a23298a35034"
      },
      "source": [
        "from sklearn.preprocessing import LabelEncoder\n",
        "# to convert categorical text data to model-understandable numerical data\n",
        "\n",
        "le = LabelEncoder()\n",
        "le.fit(test_set['dx'])\n",
        "index = le.transform(test_set['dx'])\n",
        "test_set['label encoder'] = index\n",
        "\n",
        "print(test_set)\n"
      ],
      "execution_count": null,
      "outputs": [
        {
          "output_type": "stream",
          "text": [
            "        lesion_id        image_name     dx  label encoder\n",
            "9957  HAM_0006587  ISIC_0025780.jpg  akiec              0\n",
            "241   HAM_0007341  ISIC_0032898.jpg    bkl              2\n",
            "8422  HAM_0005261  ISIC_0027390.jpg     nv              5\n",
            "5183  HAM_0001451  ISIC_0029960.jpg     nv              5\n",
            "7814  HAM_0007169  ISIC_0033433.jpg     nv              5\n",
            "...           ...               ...    ...            ...\n",
            "8275  HAM_0000509  ISIC_0024837.jpg     nv              5\n",
            "36    HAM_0000351  ISIC_0029559.jpg    bkl              2\n",
            "5543  HAM_0001980  ISIC_0032012.jpg     nv              5\n",
            "3287  HAM_0004177  ISIC_0031907.jpg     nv              5\n",
            "82    HAM_0001773  ISIC_0024832.jpg    bkl              2\n",
            "\n",
            "[2504 rows x 4 columns]\n"
          ],
          "name": "stdout"
        }
      ]
    },
    {
      "cell_type": "markdown",
      "metadata": {
        "id": "1JEJY7HSDZ-f",
        "colab_type": "text"
      },
      "source": [
        "Building the CNN"
      ]
    },
    {
      "cell_type": "code",
      "metadata": {
        "id": "mAiXAICWC_My",
        "colab_type": "code",
        "colab": {
          "base_uri": "https://localhost:8080/",
          "height": 715
        },
        "outputId": "8f49de88-43e9-44c6-e137-5e36ba183282"
      },
      "source": [
        "classifier = Sequential() # initializing\n",
        "classifier.add(Convolution2D(32, kernel_size = (3, 3), input_shape = (64, 64, 3), activation = 'relu')) # build conv. layer\n",
        "classifier.add(MaxPooling2D(pool_size = (2, 2))) # pool layer\n",
        "\n",
        "# second conv. layer\n",
        "classifier.add(Convolution2D(32, kernel_size = (3, 3), activation = 'relu')) # second conv. layer\n",
        "classifier.add(MaxPooling2D(pool_size = (2, 2)))\n",
        "classifier.add(Dropout(0.1))\n",
        "\n",
        "\n",
        "# adding another layer\n",
        "classifier.add(Convolution2D(64, kernel_size = (3, 3), activation='relu'))\n",
        "classifier.add(MaxPooling2D(pool_size = (2,2)))\n",
        "classifier.add(Convolution2D(128, kernel_size = (3, 3), activation='relu'))\n",
        "classifier.add(MaxPooling2D(pool_size = (2,2)))\n",
        "classifier.add(Dropout(0.2))\n",
        "\n",
        "\n",
        "\n",
        "classifier.add(Flatten()) # converting the data into a 1-dimensional array for inputting it to the next layer.\n",
        "\n",
        "# fully connected layer\n",
        "classifier.add(Dense(units = 128, activation = 'relu'))\n",
        "classifier.add(Dropout(0.4))\n",
        "classifier.add(Dense(units = 1, activation = 'sigmoid'))\n",
        "classifier.add(Dense(7, activation='softmax'))  # number of classes = 7\n",
        "\n",
        "# compilng CNN\n",
        "opt = tf.keras.optimizers.Adam(learning_rate=0.01)\n",
        "classifier.compile(optimizer = opt, loss = 'categorical_crossentropy', metrics = ['accuracy'])\n",
        "\n",
        "lr_reduction = ReduceLROnPlateau(monitor='val_accuracy', patience=3, verbose=1, factor=0.2, min_lr=0.00001)\n",
        "early_stop = tf.keras.callbacks.EarlyStopping(monitor='accuracy', patience=12)\n",
        "checkpoint = ModelCheckpoint('/content/best.hdf5', verbose=1,save_best_only=True)\n",
        "    \n",
        "classifier.summary()\n"
      ],
      "execution_count": null,
      "outputs": [
        {
          "output_type": "stream",
          "text": [
            "Model: \"sequential\"\n",
            "_________________________________________________________________\n",
            "Layer (type)                 Output Shape              Param #   \n",
            "=================================================================\n",
            "conv2d (Conv2D)              (None, 62, 62, 32)        896       \n",
            "_________________________________________________________________\n",
            "max_pooling2d (MaxPooling2D) (None, 31, 31, 32)        0         \n",
            "_________________________________________________________________\n",
            "conv2d_1 (Conv2D)            (None, 29, 29, 32)        9248      \n",
            "_________________________________________________________________\n",
            "max_pooling2d_1 (MaxPooling2 (None, 14, 14, 32)        0         \n",
            "_________________________________________________________________\n",
            "dropout (Dropout)            (None, 14, 14, 32)        0         \n",
            "_________________________________________________________________\n",
            "conv2d_2 (Conv2D)            (None, 12, 12, 64)        18496     \n",
            "_________________________________________________________________\n",
            "max_pooling2d_2 (MaxPooling2 (None, 6, 6, 64)          0         \n",
            "_________________________________________________________________\n",
            "conv2d_3 (Conv2D)            (None, 4, 4, 128)         73856     \n",
            "_________________________________________________________________\n",
            "max_pooling2d_3 (MaxPooling2 (None, 2, 2, 128)         0         \n",
            "_________________________________________________________________\n",
            "dropout_1 (Dropout)          (None, 2, 2, 128)         0         \n",
            "_________________________________________________________________\n",
            "flatten (Flatten)            (None, 512)               0         \n",
            "_________________________________________________________________\n",
            "dense (Dense)                (None, 128)               65664     \n",
            "_________________________________________________________________\n",
            "dropout_2 (Dropout)          (None, 128)               0         \n",
            "_________________________________________________________________\n",
            "dense_1 (Dense)              (None, 1)                 129       \n",
            "_________________________________________________________________\n",
            "dense_2 (Dense)              (None, 7)                 14        \n",
            "=================================================================\n",
            "Total params: 168,303\n",
            "Trainable params: 168,303\n",
            "Non-trainable params: 0\n",
            "_________________________________________________________________\n"
          ],
          "name": "stdout"
        }
      ]
    },
    {
      "cell_type": "markdown",
      "metadata": {
        "id": "3nptC2COE-7n",
        "colab_type": "text"
      },
      "source": [
        "Fitting CNN to Images"
      ]
    },
    {
      "cell_type": "code",
      "metadata": {
        "id": "HRBFQpDSE2sW",
        "colab_type": "code",
        "colab": {
          "base_uri": "https://localhost:8080/",
          "height": 1000
        },
        "outputId": "5b7657d7-0b31-4827-e45f-6663be7494a8"
      },
      "source": [
        "from tensorflow.keras.preprocessing.image import ImageDataGenerator\n",
        "b_size = 32\n",
        "train_gen = ImageDataGenerator(rescale = 1./255, shear_range = 0.1, zoom_range = 0.1, width_shift_range=0.1, height_shift_range=0.1, rotation_range=10, horizontal_flip = True, vertical_flip = True)\n",
        "\n",
        "\n",
        "train_data = train_gen.flow_from_dataframe(dataframe = train_set, x_col = 'image_name', y_col = 'dx', directory='HAM10000', target_size=(64, 64), batch_size = b_size, class_mode='categorical')\n",
        "\n",
        "test_gen = ImageDataGenerator(rescale = 1./255) # only rescaling. \n",
        "test_data = test_gen.flow_from_dataframe(dataframe = test_set, x_col = 'image_name', y_col = 'dx', directory='HAM10000', target_size=(64, 64), batch_size = b_size, class_mode='categorical')\n",
        "\n",
        "graph = classifier.fit(train_data, steps_per_epoch=(6000//train_data.batch_size), epochs=25, validation_data=test_data, validation_steps=(1500/test_data.batch_size), callbacks=[lr_reduction, early_stop, checkpoint])"
      ],
      "execution_count": null,
      "outputs": [
        {
          "output_type": "stream",
          "text": [
            "Found 7511 validated image filenames belonging to 7 classes.\n",
            "Found 2504 validated image filenames belonging to 7 classes.\n",
            "Epoch 1/25\n",
            "187/187 [==============================] - ETA: 0s - loss: 1.2392 - accuracy: 0.6204\n",
            "Epoch 00001: val_loss improved from inf to 1.14838, saving model to /content/best.hdf5\n",
            "187/187 [==============================] - 77s 409ms/step - loss: 1.2392 - accuracy: 0.6204 - val_loss: 1.1484 - val_accuracy: 0.6609 - lr: 0.0100\n",
            "Epoch 2/25\n",
            "187/187 [==============================] - ETA: 0s - loss: 1.1282 - accuracy: 0.6695\n",
            "Epoch 00002: val_loss improved from 1.14838 to 1.13049, saving model to /content/best.hdf5\n",
            "187/187 [==============================] - 72s 387ms/step - loss: 1.1282 - accuracy: 0.6695 - val_loss: 1.1305 - val_accuracy: 0.6689 - lr: 0.0100\n",
            "Epoch 3/25\n",
            "187/187 [==============================] - ETA: 0s - loss: 1.1334 - accuracy: 0.6696\n",
            "Epoch 00003: val_loss improved from 1.13049 to 1.10001, saving model to /content/best.hdf5\n",
            "187/187 [==============================] - 71s 378ms/step - loss: 1.1334 - accuracy: 0.6696 - val_loss: 1.1000 - val_accuracy: 0.6809 - lr: 0.0100\n",
            "Epoch 4/25\n",
            "187/187 [==============================] - ETA: 0s - loss: 1.1228 - accuracy: 0.6736\n",
            "Epoch 00004: val_loss did not improve from 1.10001\n",
            "187/187 [==============================] - 69s 370ms/step - loss: 1.1228 - accuracy: 0.6736 - val_loss: 1.1483 - val_accuracy: 0.6622 - lr: 0.0100\n",
            "Epoch 5/25\n",
            "187/187 [==============================] - ETA: 0s - loss: 1.1386 - accuracy: 0.6679\n",
            "Epoch 00005: val_loss improved from 1.10001 to 1.09461, saving model to /content/best.hdf5\n",
            "187/187 [==============================] - 68s 364ms/step - loss: 1.1386 - accuracy: 0.6679 - val_loss: 1.0946 - val_accuracy: 0.6815 - lr: 0.0100\n",
            "Epoch 6/25\n",
            "187/187 [==============================] - ETA: 0s - loss: 1.1386 - accuracy: 0.6659\n",
            "Epoch 00006: val_loss did not improve from 1.09461\n",
            "187/187 [==============================] - 68s 362ms/step - loss: 1.1386 - accuracy: 0.6659 - val_loss: 1.1667 - val_accuracy: 0.6629 - lr: 0.0100\n",
            "Epoch 7/25\n",
            "187/187 [==============================] - ETA: 0s - loss: 1.1343 - accuracy: 0.6693\n",
            "Epoch 00007: val_loss did not improve from 1.09461\n",
            "187/187 [==============================] - 68s 363ms/step - loss: 1.1343 - accuracy: 0.6693 - val_loss: 1.0965 - val_accuracy: 0.6842 - lr: 0.0100\n",
            "Epoch 8/25\n",
            "187/187 [==============================] - ETA: 0s - loss: 1.1460 - accuracy: 0.6628\n",
            "Epoch 00008: val_loss did not improve from 1.09461\n",
            "187/187 [==============================] - 68s 363ms/step - loss: 1.1460 - accuracy: 0.6628 - val_loss: 1.1501 - val_accuracy: 0.6662 - lr: 0.0100\n",
            "Epoch 9/25\n",
            "187/187 [==============================] - ETA: 0s - loss: 1.1325 - accuracy: 0.6695\n",
            "Epoch 00009: val_loss did not improve from 1.09461\n",
            "187/187 [==============================] - 68s 363ms/step - loss: 1.1325 - accuracy: 0.6695 - val_loss: 1.1700 - val_accuracy: 0.6543 - lr: 0.0100\n",
            "Epoch 10/25\n",
            "187/187 [==============================] - ETA: 0s - loss: 1.1416 - accuracy: 0.6659\n",
            "Epoch 00010: ReduceLROnPlateau reducing learning rate to 0.0019999999552965165.\n",
            "\n",
            "Epoch 00010: val_loss did not improve from 1.09461\n",
            "187/187 [==============================] - 67s 361ms/step - loss: 1.1416 - accuracy: 0.6659 - val_loss: 1.1813 - val_accuracy: 0.6456 - lr: 0.0100\n",
            "Epoch 11/25\n",
            "187/187 [==============================] - ETA: 0s - loss: 1.1346 - accuracy: 0.6669\n",
            "Epoch 00011: val_loss did not improve from 1.09461\n",
            "187/187 [==============================] - 67s 360ms/step - loss: 1.1346 - accuracy: 0.6669 - val_loss: 1.1409 - val_accuracy: 0.6649 - lr: 0.0020\n",
            "Epoch 12/25\n",
            "187/187 [==============================] - ETA: 0s - loss: 1.1357 - accuracy: 0.6669\n",
            "Epoch 00012: val_loss did not improve from 1.09461\n",
            "187/187 [==============================] - 68s 362ms/step - loss: 1.1357 - accuracy: 0.6669 - val_loss: 1.1534 - val_accuracy: 0.6582 - lr: 0.0020\n",
            "Epoch 13/25\n",
            "187/187 [==============================] - ETA: 0s - loss: 1.1305 - accuracy: 0.6710\n",
            "Epoch 00013: ReduceLROnPlateau reducing learning rate to 0.0003999999724328518.\n",
            "\n",
            "Epoch 00013: val_loss did not improve from 1.09461\n",
            "187/187 [==============================] - 67s 360ms/step - loss: 1.1305 - accuracy: 0.6710 - val_loss: 1.1221 - val_accuracy: 0.6702 - lr: 0.0020\n",
            "Epoch 14/25\n",
            "187/187 [==============================] - ETA: 0s - loss: 1.1254 - accuracy: 0.6713\n",
            "Epoch 00014: val_loss did not improve from 1.09461\n",
            "187/187 [==============================] - 67s 360ms/step - loss: 1.1254 - accuracy: 0.6713 - val_loss: 1.1464 - val_accuracy: 0.6629 - lr: 4.0000e-04\n",
            "Epoch 15/25\n",
            "187/187 [==============================] - ETA: 0s - loss: 1.1313 - accuracy: 0.6673\n",
            "Epoch 00015: val_loss did not improve from 1.09461\n",
            "187/187 [==============================] - 67s 361ms/step - loss: 1.1313 - accuracy: 0.6673 - val_loss: 1.1454 - val_accuracy: 0.6609 - lr: 4.0000e-04\n",
            "Epoch 16/25\n",
            "187/187 [==============================] - ETA: 0s - loss: 1.1313 - accuracy: 0.6696\n",
            "Epoch 00016: ReduceLROnPlateau reducing learning rate to 7.999999215826393e-05.\n",
            "\n",
            "Epoch 00016: val_loss did not improve from 1.09461\n",
            "187/187 [==============================] - 68s 361ms/step - loss: 1.1313 - accuracy: 0.6696 - val_loss: 1.1300 - val_accuracy: 0.6729 - lr: 4.0000e-04\n"
          ],
          "name": "stdout"
        }
      ]
    },
    {
      "cell_type": "code",
      "metadata": {
        "id": "-xE4KQwdyD7g",
        "colab_type": "code",
        "colab": {
          "base_uri": "https://localhost:8080/",
          "height": 295
        },
        "outputId": "e2f702a3-e2c6-4835-f898-d82c34ceaf93"
      },
      "source": [
        "import matplotlib.pyplot as plt \n",
        "fig1 = plt.figure()\n",
        "plt.plot(graph.history['loss'])\n",
        "plt.plot(graph.history['val_loss'])\n",
        "plt.title('Loss From Training')\n",
        "plt.xlabel('Epoch')\n",
        "plt.ylabel('Loss')\n",
        "plt.show()\n",
        "fig1.savefig('/content/loss.png')"
      ],
      "execution_count": null,
      "outputs": [
        {
          "output_type": "display_data",
          "data": {
            "image/png": "[encoded data removed]",
            "text/plain": [
              "<Figure size 432x288 with 1 Axes>"
            ]
          },
          "metadata": {
            "tags": [],
            "needs_background": "light"
          }
        }
      ]
    },
    {
      "cell_type": "code",
      "metadata": {
        "id": "3wPnizpXwT0Q",
        "colab_type": "code",
        "colab": {
          "base_uri": "https://localhost:8080/",
          "height": 295
        },
        "outputId": "eaab5acd-2b65-49d4-eee3-a5e294e37432"
      },
      "source": [
        "fig2 = plt.figure()\n",
        "plt.plot(graph.history['accuracy'])\n",
        "plt.plot(graph.history['val_accuracy'])\n",
        "plt.title('Accuracy')\n",
        "plt.xlabel('Epoch')\n",
        "plt.ylabel('Percentage')\n",
        "plt.show()\n",
        "fig2.savefig('/content/accuracy.png')"
      ],
      "execution_count": null,
      "outputs": [
        {
          "output_type": "display_data",
          "data": {
            "image/png": "[encoded data removed]",
            "text/plain": [
              "<Figure size 432x288 with 1 Axes>"
            ]
          },
          "metadata": {
            "tags": [],
            "needs_background": "light"
          }
        }
      ]
    }
  ]
}